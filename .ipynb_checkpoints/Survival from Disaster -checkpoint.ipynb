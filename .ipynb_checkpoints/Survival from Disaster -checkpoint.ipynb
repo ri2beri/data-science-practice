{
 "cells": [
  {
   "cell_type": "code",
   "execution_count": null,
   "metadata": {
    "_cell_guid": "b1076dfc-b9ad-4769-8c92-a6c4dae69d19",
    "_kg_hide-input": true,
    "_uuid": "8f2839f25d086af736a60e9eeb907d3b93b6e0e5"
   },
   "outputs": [],
   "source": [
    "# This Python 3 environment comes with many helpful analytics libraries installed\n",
    "# It is defined by the kaggle/python docker image: https://github.com/kaggle/docker-python\n",
    "# For example, here's several helpful packages to load in \n",
    "\n",
    "import numpy as np # linear algebra\n",
    "import pandas as pd # data processing, CSV file I/O (e.g. pd.read_csv)\n",
    "import xgboost as xgb\n",
    "from sklearn.linear_model import LogisticRegression\n",
    "from sklearn.ensemble import RandomForestClassifier\n",
    "from sklearn.model_selection import GridSearchCV\n",
    "\n",
    "# Input data files are available in the \"../input/\" directory.\n",
    "# For example, running this (by clicking run or pressing Shift+Enter) will list the files in the input directory\n",
    "\n",
    "import os\n",
    "print(os.listdir(\"../input\"))\n",
    "\n",
    "# Any results you write to the current directory are saved as output.\n",
    "\n",
    "train =pd.read_csv('../input/train.csv')\n",
    "test = pd.read_csv('../input/test.csv')\n",
    "test.head()\n"
   ]
  },
  {
   "cell_type": "code",
   "execution_count": null,
   "metadata": {
    "_uuid": "ef1eb63e979ca90dab2a2e0a46295c5b9d675cfd"
   },
   "outputs": [],
   "source": [
    "survied=pd.read_csv(\"../input/gender_submission.csv\")"
   ]
  },
  {
   "cell_type": "code",
   "execution_count": null,
   "metadata": {
    "_uuid": "6096b65161e9f0ad54a6f5515c03c75696b1ba11"
   },
   "outputs": [],
   "source": [
    "#Distribution of Survival on the basis of Passenger Calss...\n",
    "train[[\"Pclass\",\"Survived\"]].groupby([\"Pclass\"],as_index=False).mean().sort_values(by=\"Survived\",ascending=False)"
   ]
  },
  {
   "cell_type": "code",
   "execution_count": null,
   "metadata": {
    "_uuid": "810863a23ea8b4a4a2e63de92222474d8daad133"
   },
   "outputs": [],
   "source": [
    "#distribution of survival on the basis of Gender...\n",
    "train[[\"Sex\",\"Survived\"]].groupby([\"Sex\"],as_index=False).mean().sort_values(by=\"Survived\",ascending=False)"
   ]
  },
  {
   "cell_type": "code",
   "execution_count": null,
   "metadata": {
    "_uuid": "5225b8bcca9ed9dee15545d0cf70aa41538d2ac2"
   },
   "outputs": [],
   "source": [
    "#Distribution of Survival on the Basis of Number of Siblings...\n",
    "train[[\"SibSp\",\"Survived\"]].groupby([\"SibSp\"],as_index=False).mean().sort_values(by=\"Survived\",ascending=False)"
   ]
  },
  {
   "cell_type": "code",
   "execution_count": null,
   "metadata": {
    "_uuid": "54efb87bff5beb721ddb5335c4873185c0044f2b"
   },
   "outputs": [],
   "source": [
    "train[[\"Parch\",\"Survived\"]].groupby([\"Parch\"],as_index=False).mean().sort_values(by=\"Survived\",ascending=False)"
   ]
  },
  {
   "cell_type": "code",
   "execution_count": null,
   "metadata": {
    "_uuid": "9ee4570644c9c6a7ae17b8b0e47a458542b6cf3b"
   },
   "outputs": [],
   "source": [
    " data=train.append(test,sort=\"PassengerId\")\n",
    "    "
   ]
  },
  {
   "cell_type": "code",
   "execution_count": null,
   "metadata": {
    "_uuid": "c0b5745736ee00ab4e574fbfc250ac84dfea9aca"
   },
   "outputs": [],
   "source": [
    "data[\"title\"]=data[\"Name\"].apply(lambda x: x.split(',')[1].split('.'or '.')[0].strip().strip(',.'))\n",
    "data[\"title\"].value_counts()"
   ]
  },
  {
   "cell_type": "code",
   "execution_count": null,
   "metadata": {
    "_uuid": "109ac37027aa8182911dac232fbc17ed520289ca"
   },
   "outputs": [],
   "source": [
    "normalized_titles = {\n",
    "    \"Capt\":       \"Officer\",\n",
    "    \"Col\":        \"Officer\",\n",
    "    \"Major\":      \"Officer\",\n",
    "    \"Jonkheer\":   \"Royalty\",\n",
    "    \"Don\":        \"Royalty\",\n",
    "    \"Sir\" :       \"Royalty\",\n",
    "    \"Dr\":         \"Officer\",\n",
    "    \"Rev\":        \"Officer\",\n",
    "    \"the Countess\":\"Royalty\",\n",
    "    \"Dona\":       \"Royalty\",\n",
    "    \"Mme\":        \"Mrs\",\n",
    "    \"Mlle\":       \"Miss\",\n",
    "    \"Ms\":         \"Mrs\",\n",
    "    \"Mr\" :        \"Mr\",\n",
    "    \"Mrs\" :       \"Mrs\",\n",
    "    \"Miss\" :      \"Miss\",\n",
    "    \"Master\" :    \"Master\",\n",
    "    \"Lady\" :      \"Royalty\"\n",
    "}"
   ]
  },
  {
   "cell_type": "code",
   "execution_count": null,
   "metadata": {
    "_uuid": "708ff59a8ad46efa6caf8543dbeeef498f90f022"
   },
   "outputs": [],
   "source": [
    "data[\"title\"]=data[\"title\"].map(normalized_titles)\n",
    "#normalized_titles\n",
    "#data[data[\"title\"].isna()]\n",
    "\"Brewe, Dr. Arthur Jackson\".split(',')[1].split('.'or '.')[0].strip().strip(',.')"
   ]
  },
  {
   "cell_type": "code",
   "execution_count": null,
   "metadata": {
    "_uuid": "78d0d3d06509b5d639a64d3e1053f4d0141a0b83"
   },
   "outputs": [],
   "source": [
    "#Replacing Age Missing value by grouped by Sex , pclass,title mean Age...\n",
    "data['Age']=data['Age'].fillna(data.groupby(['Sex','Pclass', 'title'])['Age'].transform('mean'))"
   ]
  },
  {
   "cell_type": "code",
   "execution_count": null,
   "metadata": {
    "_uuid": "3edac4ae862ada26ed286a2f83cef1a08ac56b50"
   },
   "outputs": [],
   "source": [
    "data[\"Fare\"]=data[\"Fare\"].fillna(data.groupby([\"Sex\",\"Pclass\"])[\"Fare\"].transform('mean'))"
   ]
  },
  {
   "cell_type": "code",
   "execution_count": null,
   "metadata": {
    "_uuid": "6809c55f580037a4f856496e28829d92a549dbba"
   },
   "outputs": [],
   "source": [
    "data[\"Cabin\"]=data[\"Cabin\"].fillna(\"Unknown\")"
   ]
  },
  {
   "cell_type": "code",
   "execution_count": null,
   "metadata": {
    "_uuid": "f4bad84332a77149bf68bda703aec1f823e38596"
   },
   "outputs": [],
   "source": [
    "data['FamilySize'] = data[\"Parch\"] + data[\"SibSp\"] + 1"
   ]
  },
  {
   "cell_type": "code",
   "execution_count": null,
   "metadata": {
    "_uuid": "6498ad74d090d1bb71085eb5565d791bf7022dad"
   },
   "outputs": [],
   "source": [
    "data=data.drop([\"Parch\",\"SibSp\"],axis=1)"
   ]
  },
  {
   "cell_type": "code",
   "execution_count": null,
   "metadata": {
    "_uuid": "cbcc275f456356b4188c1e17500272aa04ef6ea6"
   },
   "outputs": [],
   "source": [
    "data[\"Cabin\"]=data[\"Cabin\"].map(lambda x:x[0])\n"
   ]
  },
  {
   "cell_type": "code",
   "execution_count": null,
   "metadata": {
    "_uuid": "80d58594082b37baa28839a09fc6c888ea450b8e"
   },
   "outputs": [],
   "source": [
    "data[\"Sex\"]=data[\"Sex\"].map({\"male\":1,\"female\":0})"
   ]
  },
  {
   "cell_type": "code",
   "execution_count": null,
   "metadata": {
    "_uuid": "e4d152afe6e6b7e39f13ebf83730e9916e75afbd"
   },
   "outputs": [],
   "source": [
    "pclass_dummies = pd.get_dummies(data[\"Pclass\"], prefix=\"Pclass\")\n",
    "title_dummies = pd.get_dummies(data[\"title\"], prefix=\"title\")\n",
    "cabin_dummies = pd.get_dummies(data[\"Cabin\"], prefix=\"Cabin\")\n",
    "embarked_dummies = pd.get_dummies(data[\"Embarked\"], prefix=\"Embarked\")"
   ]
  },
  {
   "cell_type": "code",
   "execution_count": null,
   "metadata": {
    "_uuid": "af917c799dbfc7b5ea2efd22f3ae91c51c49185a"
   },
   "outputs": [],
   "source": [
    "dummies_data=pd.concat([data,pclass_dummies,title_dummies,cabin_dummies,embarked_dummies],axis=1)"
   ]
  },
  {
   "cell_type": "code",
   "execution_count": null,
   "metadata": {
    "_uuid": "43246da3a052bd232dd090f068235c661cec4bf7"
   },
   "outputs": [],
   "source": [
    "dummies_data.drop([\"Pclass\",\"title\",\"Cabin\",\"Embarked\",\"Name\", \"Ticket\"],axis=1,inplace=True)"
   ]
  },
  {
   "cell_type": "code",
   "execution_count": null,
   "metadata": {
    "_uuid": "c48e8798c68044dc26de79f75e1a083046ac291c"
   },
   "outputs": [],
   "source": [
    "test=dummies_data[dummies_data[\"Survived\"].isna()]"
   ]
  },
  {
   "cell_type": "code",
   "execution_count": null,
   "metadata": {
    "_uuid": "28ec1837e1c84d42ceaab3def902f02405d64d82",
    "scrolled": true
   },
   "outputs": [],
   "source": [
    "train=dummies_data[~dummies_data[\"Survived\"].isna()]"
   ]
  },
  {
   "cell_type": "code",
   "execution_count": null,
   "metadata": {
    "_uuid": "a8ac0d8461d23ba5ca4a9d6cacaf6d3dec4df82e"
   },
   "outputs": [],
   "source": [
    "train[\"Survived\"].astype(\"int32\",inplace=True)"
   ]
  },
  {
   "cell_type": "code",
   "execution_count": null,
   "metadata": {
    "_uuid": "1c9bd9e0edb8c4d7fc69c1c281dcb5bbdbda0c7f"
   },
   "outputs": [],
   "source": [
    "y = train[\"Survived\"]\n",
    "x= train.drop('Survived',axis=1)"
   ]
  },
  {
   "cell_type": "code",
   "execution_count": null,
   "metadata": {
    "_uuid": "13a2d43f42d07e6243b4a5c1d80cd708f9aefa9f",
    "scrolled": true
   },
   "outputs": [],
   "source": [
    "x.head()"
   ]
  },
  {
   "cell_type": "code",
   "execution_count": null,
   "metadata": {
    "_uuid": "5e26af2bfde5b0929b77718597bf1eeefa6dae87"
   },
   "outputs": [],
   "source": []
  },
  {
   "cell_type": "code",
   "execution_count": null,
   "metadata": {
    "_uuid": "3b30589432175c6b571a3c60229a2bd29c734bda"
   },
   "outputs": [],
   "source": []
  },
  {
   "cell_type": "code",
   "execution_count": null,
   "metadata": {
    "_uuid": "95c4369a4d50465edac2a4b29f6f8b3ea8364a12"
   },
   "outputs": [],
   "source": [
    "# random forrest prediction on test set\n",
    "forrest_pred = random_forest.predict(x_test)\n",
    "forrest_pred=forrest_pred.astype(\"int32\")"
   ]
  },
  {
   "cell_type": "code",
   "execution_count": null,
   "metadata": {
    "_uuid": "8b5c4d4ab318fed4c10c412fcba1199e13e925e6"
   },
   "outputs": [],
   "source": []
  },
  {
   "cell_type": "code",
   "execution_count": null,
   "metadata": {
    "_uuid": "2a71d4d8cdbb08f32acc1d1e225dcaa76675af55"
   },
   "outputs": [],
   "source": [
    "passengerId = test.PassengerId\n",
    "kaggle = pd.DataFrame({'PassengerId': passengerId, 'Survived': forrest_pred})\n",
    "# save to csv\n",
    "kaggle.to_csv(\"submission.csv\", index=False)"
   ]
  },
  {
   "cell_type": "code",
   "execution_count": null,
   "metadata": {
    "_uuid": "c7629429f6eeedaffa10cb646f90985052618aad"
   },
   "outputs": [],
   "source": []
  }
 ],
 "metadata": {
  "kernelspec": {
   "display_name": "Python 3",
   "language": "python",
   "name": "python3"
  },
  "language_info": {
   "codemirror_mode": {
    "name": "ipython",
    "version": 3
   },
   "file_extension": ".py",
   "mimetype": "text/x-python",
   "name": "python",
   "nbconvert_exporter": "python",
   "pygments_lexer": "ipython3",
   "version": "3.7.1"
  }
 },
 "nbformat": 4,
 "nbformat_minor": 1
}
